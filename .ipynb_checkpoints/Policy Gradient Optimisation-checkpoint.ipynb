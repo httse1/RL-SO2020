{
 "cells": [
  {
   "cell_type": "code",
   "execution_count": 2,
   "metadata": {},
   "outputs": [],
   "source": [
    "import numpy as np\n",
    "import random as rnd\n",
    "from matplotlib import pyplot as plt"
   ]
  },
  {
   "cell_type": "code",
   "execution_count": 254,
   "metadata": {},
   "outputs": [],
   "source": [
    "class Garnet:\n",
    "    \n",
    "    def __init__(self, Ns, Na, Nb, gamma):\n",
    "        \n",
    "        self.Ns = Ns # number of states\n",
    "        self.Na = Na # number of actions in each state\n",
    "        self.Nb = Nb # branching factor\n",
    "        self.gamma = gamma # discount factor\n",
    "        \n",
    "        self.initGarnet()\n",
    "    \n",
    "    # initialize garnet\n",
    "    def initGarnet(self): # initialize garnet problem\n",
    "        \n",
    "        self.initTransition()\n",
    "        self.initReward()\n",
    "        self.initPi()\n",
    "        \n",
    "    #------------------------\n",
    "    \n",
    "    # initializers\n",
    "    def initTransition(self):\n",
    "        \n",
    "        P = np.zeros((self.Ns, self.Na, self.Ns))\n",
    "        \n",
    "        for i in range(self.Ns):\n",
    "            for j in range(self.Na):\n",
    "                \n",
    "                sampleArr = rnd.sample(range(self.Ns), k = self.Nb)\n",
    "                P_sum = np.random.rand(self.Nb - 1)\n",
    "                P_sum = np.sort([*P_sum, 0, 1])\n",
    "                for k in range(self.Nb):\n",
    "                    P[i][j][sampleArr[k]] = P_sum[k + 1] - P_sum[k]\n",
    "        \n",
    "        self.P = P\n",
    "    \n",
    "    def initReward(self):\n",
    "        self.R = np.random.uniform(size=(self.Ns, self.Na))\n",
    "    \n",
    "    def initPi(self):\n",
    "        # uniform random\n",
    "        self.pi = np.ones((self.Na, self.Ns)) / self.Na\n",
    "    \n",
    "    #------------------------\n",
    "    \n",
    "    # generate sequence\n",
    "    def getNext(self, s):\n",
    "        \n",
    "        a = self.getAction(s)\n",
    "        r = self.R[s,a]\n",
    "        s_next = self.getState(s,a)\n",
    "        \n",
    "        return a, r, s_next\n",
    "    \n",
    "    def getAction(self, s):\n",
    "        return np.random.choice(np.arange(self.Na),p=self.pi[:,s])\n",
    "    \n",
    "    def getState(self, s, a):\n",
    "        return np.random.choice(np.arange(self.Ns), p=self.P[s,a,:])\n",
    "    \n",
    "    #------------------------\n",
    "    \n",
    "    # cal & store true state values\n",
    "    def calValue(self): \n",
    "        \n",
    "        # for uniform random policy only\n",
    "        \n",
    "        P_pi = np.sum(self.P, axis=1) / self.Na\n",
    "        R_pi = np.sum(self.R, axis=1) / self.Na\n",
    "        \n",
    "        self.V_star = np.linalg.inv(np.identity(self.Ns) - self.gamma * P_pi).dot(R_pi)\n",
    "        return self.V_star\n",
    "    \n",
    "    #------------------------\n",
    "    \n",
    "    # MSE\n",
    "    def MSE(self, V):\n",
    "        \n",
    "        self.calValue()\n",
    "        if len(V) != len(self.V_star): return -1\n",
    "        \n",
    "        return np.mean((V - self.V_star)**2)"
   ]
  },
  {
   "cell_type": "code",
   "execution_count": 259,
   "metadata": {},
   "outputs": [],
   "source": [
    "g = Garnet(10,5,3,0.9)"
   ]
  },
  {
   "cell_type": "code",
   "execution_count": null,
   "metadata": {
    "scrolled": true
   },
   "outputs": [],
   "source": []
  },
  {
   "cell_type": "code",
   "execution_count": null,
   "metadata": {},
   "outputs": [],
   "source": []
  },
  {
   "cell_type": "code",
   "execution_count": null,
   "metadata": {},
   "outputs": [],
   "source": []
  }
 ],
 "metadata": {
  "kernelspec": {
   "display_name": "Python 3",
   "language": "python",
   "name": "python3"
  },
  "language_info": {
   "codemirror_mode": {
    "name": "ipython",
    "version": 3
   },
   "file_extension": ".py",
   "mimetype": "text/x-python",
   "name": "python",
   "nbconvert_exporter": "python",
   "pygments_lexer": "ipython3",
   "version": "3.7.3"
  }
 },
 "nbformat": 4,
 "nbformat_minor": 2
}
