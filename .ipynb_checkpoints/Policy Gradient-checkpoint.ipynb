{
 "cells": [
  {
   "cell_type": "code",
   "execution_count": 3,
   "metadata": {},
   "outputs": [],
   "source": [
    "import numpy as np\n",
    "import random as rnd\n",
    "from matplotlib import pyplot as plt"
   ]
  },
  {
   "cell_type": "code",
   "execution_count": 46,
   "metadata": {},
   "outputs": [],
   "source": [
    "class Garnet:\n",
    "    def __init__(self, Ns, Na, Nb, d, gamma):\n",
    "        self.Ns = Ns # number of states\n",
    "        self.Na = Na # number of actions in each state\n",
    "        self.Nb = Nb # branching factor\n",
    "        self.d = d   # dimension of feature vector\n",
    "        self.gamma = gamma # discount factor\n",
    "        self.initGarnet()\n",
    "    \n",
    "    # initialize garnet\n",
    "    def initGarnet(self):\n",
    "        self.initTransition()\n",
    "        self.initReward()\n",
    "        self.initPi()\n",
    "        self.initPhi()\n",
    "        \n",
    "    #------------------------   \n",
    "    # initializers\n",
    "    def initTransition(self):\n",
    "        P = np.zeros((self.Ns, self.Na, self.Ns))\n",
    "        for i in range(self.Ns):\n",
    "            for j in range(self.Na):\n",
    "                sampleArr = rnd.sample(range(self.Ns), k = self.Nb)\n",
    "                P_sum = np.random.rand(self.Nb - 1)\n",
    "                P_sum = np.sort([*P_sum, 0, 1])\n",
    "                for k in range(self.Nb):\n",
    "                    P[i][j][sampleArr[k]] = P_sum[k + 1] - P_sum[k]\n",
    "        self.P = P                                            # P: s x a x s'\n",
    "    \n",
    "    def initReward(self):\n",
    "        self.R = np.random.uniform(size=(self.Ns, self.Na))   # R: s x a\n",
    "    \n",
    "    def initPi(self):\n",
    "        # uniform random\n",
    "        self.pi = np.ones((self.Ns, self.Na)) / self.Na    # pi: s x a\n",
    "        \n",
    "    def initPhi(self, mean=1):\n",
    "        self.Phi = np.random.normal(loc=mean,size=(self.Ns, self.Na, self.d))  # phi: s x a x d\n",
    "        self.w = np.zeros((self.d,1))  # w (weight vector): d x 1\n",
    "        self.calPolicy()\n",
    "    \n",
    "    #------------------------\n",
    "    # generate sequence\n",
    "    def getNext(self, s):\n",
    "        a = self.getAction(s)\n",
    "        r = self.R[s,a]\n",
    "        s_next = self.getState(s,a)\n",
    "        return a, r, s_next\n",
    "    \n",
    "    def getAction(self, s):\n",
    "        return np.random.choice(np.arange(self.Na),p=self.pi[s,:])\n",
    "    \n",
    "    def getState(self, s, a):\n",
    "        return np.random.choice(np.arange(self.Ns), p=self.P[s,a,:])\n",
    "    \n",
    "    #------------------------   \n",
    "    # cal & store true state values given a policy\n",
    "    def calValue(self):   \n",
    "        # works for different pi\n",
    "        P_pi = np.einsum('ijk,ij->ik', self.P, self.pi)  # P_pi: s x s'\n",
    "        R_pi = np.einsum('ij,ij->i', self.pi, self.R)    # R_pi: s x 1\n",
    "        self.P_pi = P_pi\n",
    "        self.R_pi = R_pi\n",
    "        self.V_pi = np.linalg.inv(np.identity(self.Ns) - self.gamma * P_pi).dot(R_pi)\n",
    "        return self.V_pi\n",
    "    \n",
    "    # calculate the avergae value given a policy\n",
    "    def calAvgReward(self):\n",
    "        # works for different pi\n",
    "        self.calValue()\n",
    "        e, v = np.linalg.eig(self.P_pi.T)\n",
    "        mu = v[:,0] # eigenvector\n",
    "        mu = mu / mu.sum()  # scale to make sum 1\n",
    "        assert (mu >= 0).all()\n",
    "        return self.R_pi.dot(mu).real\n",
    "    \n",
    "    def calPolicy(self):\n",
    "        pi_ = np.einsum('ijk,kl->ij', self.Phi, self.w)\n",
    "        pi = np.exp(pi_) / np.exp(pi_).sum(axis=1, keepdims = True)\n",
    "        self.pi = pi\n",
    "        \n",
    "    def calLogPiGradient(self, s, a):\n",
    "        E = np.exp(self.Phi[s].dot(self.w))\n",
    "        phi = self.Phi[s, a].reshape(self.d,1)\n",
    "        Esum = E.sum()\n",
    "        \n",
    "        return phi - ((E / Esum) * self.Phi[s]).sum(axis=0, keepdims=True).T\n",
    "    \n",
    "    def genEpisode(self, T):\n",
    "        g.calPolicy()\n",
    "        S = np.ndarray((T+1), int)\n",
    "        A = np.ndarray((T), int)\n",
    "        r = np.ndarray((T), float)\n",
    "        S[0] = 0\n",
    "        for t in range(T):\n",
    "            A[t], r[t], S[t+1] = self.getNext(S[t])\n",
    "        return S, A, r\n",
    "    \n",
    "    #------------------------\n",
    "    def pgIter(self, T, alpha):\n",
    "        S, A, r = self.genEpisode(T)\n",
    "        for t in range(T):\n",
    "            G = 0\n",
    "            for i in range(T-t):\n",
    "                G += (self.gamma ** i) * r[t+i]\n",
    "            self.w = (self.w + alpha * (self.gamma ** t) * G * self.calLogPiGradient(S[t], A[t]))\n",
    "            for i in range(self.d):\n",
    "                if self.w[i] < 0:\n",
    "                    # to prevent divide by 0\n",
    "                    self.w[i] = 1e-10\n",
    "    \n",
    "    def pgBatch(self, T, count):\n",
    "        AvgRewardList = np.ndarray((count+1), float)\n",
    "        AvgRewardList[0] = self.calAvgReward()\n",
    "        for i in range(count):\n",
    "            alpha = 0.01 / (i + 1)\n",
    "            self.pgIter(T, alpha)\n",
    "            AvgRewardList[i+1] = self.calAvgReward()\n",
    "        plt.plot(range(count+1), AvgRewardList, label=\"Policy Gradient Algorithm 1\")\n",
    "        plt.title(\"Average Reward of Policy Gradient Algorithm 1\")\n",
    "        plt.ylabel(\"Average Reward\")\n",
    "        plt.xlabel(\"Number of Iterations\")\n",
    "        \n",
    "    #------------------------\n",
    "    # policy gradient opt (online version)\n",
    "    def pgOnline(self, alpha, lambd, T, ir):\n",
    "        # initial setup\n",
    "        if not hasattr(self, 'G'):\n",
    "            self.G = np.zeros(self.w.shape)\n",
    "        if not hasattr(self, 's'):\n",
    "            self.s = np.random.randint(self.Ns)\n",
    "        s = self.s\n",
    "        avgRs = []\n",
    "        Ts = []\n",
    "        for t in range(T):\n",
    "            a, r, s_next = self.getNext(s)\n",
    "            grad = self.calLogPiGradient(s, a)\n",
    "            self.G = lambd * self.G + grad\n",
    "            self.w = self.w + alpha / (t + 10) * r * self.G\n",
    "            # update policy after w has been updated\n",
    "            self.calPolicy()\n",
    "            if (t + 1) % (T // ir) == 0:\n",
    "                avgR = self.calAvgReward()\n",
    "                avgRs.append(avgR)\n",
    "                Ts.append(t + 1)\n",
    "        self.s = s\n",
    "        \n",
    "        plt.plot(Ts, avgRs, label=\"Policy Gradient Algorithm 2\")\n",
    "        plt.title(\"Average Reward of Policy Gradient Algorithm 2\")\n",
    "        plt.xlabel('Length of Sequence')\n",
    "        plt.ylabel(\"Average Reward\")\n",
    "        plt.show()"
   ]
  },
  {
   "cell_type": "code",
   "execution_count": 83,
   "metadata": {},
   "outputs": [],
   "source": [
    "g = Garnet(1000, 20, 2, 100, 0.9)"
   ]
  },
  {
   "cell_type": "code",
   "execution_count": 84,
   "metadata": {
    "scrolled": true
   },
   "outputs": [
    {
     "data": {
      "image/png": "[encoded data removed]",
      "text/plain": [
       "<Figure size 432x288 with 1 Axes>"
      ]
     },
     "metadata": {
      "needs_background": "light"
     },
     "output_type": "display_data"
    }
   ],
   "source": [
    "# Algorithm 1 testing\n",
    "g.pgBatch(50, 10)"
   ]
  },
  {
   "cell_type": "code",
   "execution_count": 77,
   "metadata": {},
   "outputs": [
    {
     "data": {
      "image/png": "[encoded data removed]",
      "text/plain": [
       "<Figure size 432x288 with 1 Axes>"
      ]
     },
     "metadata": {
      "needs_background": "light"
     },
     "output_type": "display_data"
    }
   ],
   "source": [
    "# Algorithm 2 testing\n",
    "g.pgOnline(1e-3, 1-1e-5, 100, 10)"
   ]
  },
  {
   "cell_type": "code",
   "execution_count": null,
   "metadata": {},
   "outputs": [],
   "source": []
  },
  {
   "cell_type": "code",
   "execution_count": null,
   "metadata": {},
   "outputs": [],
   "source": []
  }
 ],
 "metadata": {
  "kernelspec": {
   "display_name": "Python 3",
   "language": "python",
   "name": "python3"
  },
  "language_info": {
   "codemirror_mode": {
    "name": "ipython",
    "version": 3
   },
   "file_extension": ".py",
   "mimetype": "text/x-python",
   "name": "python",
   "nbconvert_exporter": "python",
   "pygments_lexer": "ipython3",
   "version": "3.7.3"
  }
 },
 "nbformat": 4,
 "nbformat_minor": 2
}
