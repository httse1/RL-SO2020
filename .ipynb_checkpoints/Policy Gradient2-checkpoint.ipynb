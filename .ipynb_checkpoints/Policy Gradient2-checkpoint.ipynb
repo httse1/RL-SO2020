{
 "cells": [
  {
   "cell_type": "code",
   "execution_count": 1,
   "metadata": {},
   "outputs": [],
   "source": [
    "import numpy as np\n",
    "import random as rnd\n",
    "from matplotlib import pyplot as plt"
   ]
  },
  {
   "cell_type": "code",
   "execution_count": 172,
   "metadata": {},
   "outputs": [],
   "source": [
    "class Garnet:\n",
    "    \n",
    "    def __init__(self, Ns, Na, Nb, d, gamma):\n",
    "        self.Ns = Ns # number of states\n",
    "        self.Na = Na # number of actions in each state\n",
    "        self.Nb = Nb # branching factor\n",
    "        self.d = d   # dimension of feature vector\n",
    "        self.gamma = gamma # discount factor\n",
    "        self.initGarnet()\n",
    "    \n",
    "    # initialize garnet\n",
    "    def initGarnet(self):\n",
    "        self.initTransition()\n",
    "        self.initReward()\n",
    "        self.initPi()\n",
    "        self.initPhi()\n",
    "        \n",
    "    def initFromGarnet(self, g):\n",
    "        \n",
    "        self.Ns = g.Ns\n",
    "        self.Na = g.Na\n",
    "        self.Nb = g.Nb\n",
    "        self.d = g.d\n",
    "        self.gamma = g.gamma\n",
    "        self.P = g.P.copy()\n",
    "        self.R = g.R.copy()\n",
    "        self.pi = g.pi.copy()\n",
    "        self.Phi = g.Phi.copy()\n",
    "        self.w = g.w.copy()\n",
    "        \n",
    "        \n",
    "    #------------------------   \n",
    "    # initializers\n",
    "    def initTransition(self):\n",
    "        P = np.zeros((self.Ns, self.Na, self.Ns))\n",
    "        for i in range(self.Ns):\n",
    "            for j in range(self.Na):\n",
    "                sampleArr = rnd.sample(range(self.Ns), k = self.Nb)\n",
    "                P_sum = np.random.rand(self.Nb - 1)\n",
    "                P_sum = np.sort([*P_sum, 0, 1])\n",
    "                for k in range(self.Nb):\n",
    "                    P[i][j][sampleArr[k]] = P_sum[k + 1] - P_sum[k]\n",
    "        self.P = P                                            # P: s x a x s'\n",
    "    \n",
    "    def initReward(self):\n",
    "        self.R = np.random.uniform(size=(self.Ns, self.Na))   # R: s x a\n",
    "    \n",
    "    def initPi(self):\n",
    "        # uniform random\n",
    "        self.pi = np.ones((self.Ns, self.Na)) / self.Na    # pi: s x a\n",
    "        \n",
    "    def initPhi(self, mean=1):\n",
    "        self.Phi = np.random.normal(loc=mean,size=(self.Ns, self.Na, self.d))  # phi: s x a x d\n",
    "        self.w = np.zeros((self.d,1))  # w (weight vector): d x 1\n",
    "        self.calPolicy()\n",
    "    \n",
    "    #------------------------\n",
    "    # generate sequence\n",
    "    def getNext(self, s):\n",
    "        a = self.getAction(s)\n",
    "        r = self.R[s,a]\n",
    "        s_next = self.getState(s,a)\n",
    "        return a, r, s_next\n",
    "    \n",
    "    def getAction(self, s):\n",
    "        try:\n",
    "            return np.random.choice(np.arange(self.Na),p=self.pi[s,:])\n",
    "        except:\n",
    "            raise ValueError(\"s:{}\".format(s))\n",
    "    \n",
    "    def getState(self, s, a):\n",
    "        return np.random.choice(np.arange(self.Ns), p=self.P[s,a,:])\n",
    "    \n",
    "    #------------------------   \n",
    "    # cal & store true state values given a policy\n",
    "    def calValue(self):   \n",
    "        # works for different pi\n",
    "        P_pi = np.einsum('ijk,ij->ik', self.P, self.pi)  # P_pi: s x s'\n",
    "        R_pi = np.einsum('ij,ij->i', self.pi, self.R)    # R_pi: s x 1\n",
    "        self.P_pi = P_pi\n",
    "        self.R_pi = R_pi\n",
    "        self.V_pi = np.linalg.inv(np.identity(self.Ns) - self.gamma * P_pi).dot(R_pi)\n",
    "        return self.V_pi\n",
    "    \n",
    "    # calculate the avergae value given a policy\n",
    "    def calAvgReward(self):\n",
    "        \"\"\"\n",
    "        # works for different pi\n",
    "        self.calValue()\n",
    "        e, v = np.linalg.eig(self.P_pi.T)\n",
    "        \n",
    "        # check whether e[0] is indeed 1\n",
    "        \n",
    "        mu = v[:,0] # eigenvector\n",
    "        mu = mu / mu.sum()  # scale to make sum 1\n",
    "        assert (mu >= 0).all()\"\"\"\n",
    "        \n",
    "        self.calValue()\n",
    "        mu = np.linalg.matrix_power(self.P_pi.T, 100)[:,0]\n",
    "        \n",
    "        return self.R_pi.dot(mu)\n",
    "    \n",
    "    def calPolicy(self):\n",
    "        pi_ = np.einsum('ijk,kl->ij', self.Phi, self.w)\n",
    "        \n",
    "        # prevent divide by inf\n",
    "        for i in range(self.Ns):\n",
    "            pi_[i] -= pi_[i].max()\n",
    "        \n",
    "        pi = np.exp(pi_) / np.exp(pi_).sum(axis=1, keepdims = True)\n",
    "        self.pi = pi\n",
    "        \n",
    "    def calLogPiGradient(self, s, a):\n",
    "        \n",
    "        return (self.Phi[s,a] - np.einsum('ij,i->j',self.Phi[5],self.pi[5])).reshape(self.d, -1)\n",
    "    \n",
    "    def genEpisode(self, T):\n",
    "        self.calPolicy()\n",
    "        S = np.ndarray((T+1), int)\n",
    "        A = np.ndarray((T), int)\n",
    "        r = np.ndarray((T), float)\n",
    "        S[0] = 0\n",
    "        for t in range(T):\n",
    "            A[t], r[t], S[t+1] = self.getNext(S[t])\n",
    "        return S, A, r\n",
    "    \n",
    "    #------------------------\n",
    "    def pgIter(self, T, alpha):\n",
    "        S, A, r = self.genEpisode(T)\n",
    "        for t in range(T):\n",
    "            G = 0\n",
    "            for i in range(T-t):\n",
    "                G += (self.gamma ** i) * r[t+i]\n",
    "            self.w = (self.w + alpha * (self.gamma ** t) * G * self.calLogPiGradient(S[t], A[t]))\n",
    "            for i in range(self.d):\n",
    "                if self.w[i] < 0:\n",
    "                    # to prevent divide by 0\n",
    "                    self.w[i] = 1e-10\n",
    "    \n",
    "    def pgBatch(self, T, count):\n",
    "        AvgRewardList = []\n",
    "        AvgRewardList.append(self.calAvgReward())\n",
    "        for i in range(count):\n",
    "            alpha = 0.01 / (i + 1)\n",
    "            self.pgIter(T, alpha)\n",
    "            AvgRewardList.append(self.calAvgReward())\n",
    "        plt.plot(range(count+1), AvgRewardList, label=\"Policy Gradient Algorithm 1\")\n",
    "        plt.title(\"Average Reward of Policy Gradient Algorithm 1\")\n",
    "        plt.ylabel(\"Average Reward\")\n",
    "        plt.xlabel(\"Number of Iterations\")\n",
    "        return ([i for i in range(count + 1)], AvgRewardList)\n",
    "        \n",
    "    #------------------------\n",
    "    # policy gradient opt (online version)\n",
    "    def pgOnline(self, alpha, lambd, T, ir):\n",
    "        # initial setup\n",
    "        if not hasattr(self, 'G'):\n",
    "            self.G = np.zeros(self.w.shape)\n",
    "        if not hasattr(self, 's'):\n",
    "            self.s = np.random.randint(self.Ns)\n",
    "        s = self.s\n",
    "        avgRs = []\n",
    "        Ts = []\n",
    "        for t in range(T):\n",
    "            a, r, s_next = self.getNext(s)\n",
    "            grad = self.calLogPiGradient(s, a)\n",
    "            self.G = lambd * self.G + grad\n",
    "            self.w = self.w + alpha / np.sqrt(t + 10) * r * self.G\n",
    "            \n",
    "            # update policy after w has been updated (every 10 epochs)\n",
    "            self.calPolicy()\n",
    "                \n",
    "            if (t + 1) % (T // ir) == 0:\n",
    "                avgR = self.calAvgReward()\n",
    "                avgRs.append(avgR)\n",
    "                Ts.append(t + 1)\n",
    "        self.s = s\n",
    "        \n",
    "        plt.plot(Ts, avgRs, label=\"Policy Gradient Algorithm 2\")\n",
    "        plt.title(\"Avg. R of PGOnline\")\n",
    "        plt.xlabel('Length of Sequence')\n",
    "        plt.ylabel(\"Average Reward\")\n",
    "        plt.show()\n",
    "        \n",
    "        return (Ts, avgRs)"
   ]
  },
  {
   "cell_type": "code",
   "execution_count": 173,
   "metadata": {},
   "outputs": [],
   "source": [
    "g1 = Garnet(100, 10, 5, 20, 0.9)\n",
    "g2 = Garnet(100, 10, 5, 20, 0.9)\n",
    "g2.initFromGarnet(g1)"
   ]
  },
  {
   "cell_type": "code",
   "execution_count": 177,
   "metadata": {
    "scrolled": true
   },
   "outputs": [
    {
     "data": {
      "image/png": "[encoded data removed]",
      "text/plain": [
       "<Figure size 432x288 with 1 Axes>"
      ]
     },
     "metadata": {
      "needs_background": "light"
     },
     "output_type": "display_data"
    }
   ],
   "source": [
    "# Algorithm 1 testing\n",
    "x1, y1 = g1.pgBatch(50, 600)"
   ]
  },
  {
   "cell_type": "code",
   "execution_count": 178,
   "metadata": {
    "scrolled": true
   },
   "outputs": [
    {
     "data": {
      "image/png": "[encoded data removed]",
      "text/plain": [
       "<Figure size 432x288 with 1 Axes>"
      ]
     },
     "metadata": {
      "needs_background": "light"
     },
     "output_type": "display_data"
    }
   ],
   "source": [
    "# Algorithm 2 testing\n",
    "x2, y2 = g2.pgOnline(1e-4, 1-1e-3, 30000, 100)"
   ]
  },
  {
   "cell_type": "code",
   "execution_count": 179,
   "metadata": {},
   "outputs": [
    {
     "data": {
      "image/png": "[encoded data removed]",
      "text/plain": [
       "<Figure size 432x288 with 1 Axes>"
      ]
     },
     "metadata": {
      "needs_background": "light"
     },
     "output_type": "display_data"
    }
   ],
   "source": [
    "plt.plot([x * 50 for x in x1], y1, 'r',label=\"Policy Gradient Algorithm 1\")\n",
    "plt.plot(x2, y2, 'b', label=\"Policy Gradient Algorithm 2\")\n",
    "plt.legend()\n",
    "plt.show()"
   ]
  },
  {
   "cell_type": "code",
   "execution_count": 168,
   "metadata": {
    "scrolled": true
   },
   "outputs": [
    {
     "data": {
      "text/plain": [
       "array([ 0., nan,  0.,  0.,  0.,  0.,  0.,  0.,  0.,  0.])"
      ]
     },
     "execution_count": 168,
     "metadata": {},
     "output_type": "execute_result"
    }
   ],
   "source": [
    "g2.pi[48]"
   ]
  },
  {
   "cell_type": "code",
   "execution_count": 169,
   "metadata": {},
   "outputs": [],
   "source": [
    "pi_ = np.einsum('ijk,kl->ij', g2.Phi, g2.w)"
   ]
  },
  {
   "cell_type": "code",
   "execution_count": 171,
   "metadata": {},
   "outputs": [
    {
     "data": {
      "text/plain": [
       "array([-184.26917768,  709.78458755,  -84.24289347, -180.42777722,\n",
       "        -70.92325751,  -51.02809131, -110.15468339,   60.05758656,\n",
       "         13.49159083, -102.28788436])"
      ]
     },
     "execution_count": 171,
     "metadata": {},
     "output_type": "execute_result"
    }
   ],
   "source": [
    "pi_[48] - pi_[48].mean()"
   ]
  },
  {
   "cell_type": "code",
   "execution_count": 141,
   "metadata": {},
   "outputs": [],
   "source": [
    "#np.exp(pi_ -10) / np.exp(pi_ -10).sum()"
   ]
  },
  {
   "cell_type": "code",
   "execution_count": 140,
   "metadata": {},
   "outputs": [],
   "source": [
    "#np.exp(pi_ - 20) / np.exp(pi_ - 20).sum()"
   ]
  },
  {
   "cell_type": "code",
   "execution_count": null,
   "metadata": {},
   "outputs": [],
   "source": []
  }
 ],
 "metadata": {
  "kernelspec": {
   "display_name": "Python 3",
   "language": "python",
   "name": "python3"
  },
  "language_info": {
   "codemirror_mode": {
    "name": "ipython",
    "version": 3
   },
   "file_extension": ".py",
   "mimetype": "text/x-python",
   "name": "python",
   "nbconvert_exporter": "python",
   "pygments_lexer": "ipython3",
   "version": "3.7.3"
  }
 },
 "nbformat": 4,
 "nbformat_minor": 2
}
