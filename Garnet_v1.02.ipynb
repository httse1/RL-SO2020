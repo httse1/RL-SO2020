{
 "cells": [
  {
   "cell_type": "code",
   "execution_count": 1,
   "metadata": {},
   "outputs": [],
   "source": [
    "# load the required packages\n",
    "import numpy as np\n",
    "import random as rnd\n",
    "import matplotlib.pyplot as plt"
   ]
  },
  {
   "cell_type": "markdown",
   "metadata": {},
   "source": [
    "## Garnet MDP Problem"
   ]
  },
  {
   "cell_type": "markdown",
   "metadata": {},
   "source": [
    "It is a simple simulation on Markov Decision Process. <br/>\n",
    "MDP = (S, A, P, R, γ)"
   ]
  },
  {
   "cell_type": "code",
   "execution_count": 2,
   "metadata": {},
   "outputs": [],
   "source": [
    "class MDP:\n",
    "    def __init__(self, Ns, Na, Nb, dF):\n",
    "        self.Ns = Ns\n",
    "        self.Na = Na\n",
    "        self.Nb = Nb\n",
    "        self.dF = dF\n",
    "        \n",
    "        # transition probability function P\n",
    "        self.P = np.ndarray((Ns, Na, Ns), float)\n",
    "        for i in range(Ns):\n",
    "            for j in range(Na):\n",
    "                sampleArr = rnd.sample(range(Ns), k = Nb)\n",
    "                P_sum = np.random.rand(Nb - 1)\n",
    "                P_sum = np.concatenate((P_sum, np.array([0, 1])), axis = 0)\n",
    "                P_sum = np.sort(P_sum)\n",
    "                for k in range(Nb):\n",
    "                    self.P[i][j][sampleArr[k]] = P_sum[k + 1] - P_sum[k]\n",
    "                for k in range(Ns):\n",
    "                    if k not in sampleArr:\n",
    "                        self.P[i][j][k] = 0\n",
    "\n",
    "        # reward function R\n",
    "        self.R = np.random.uniform(size = (self.Ns, self.Na))\n",
    "    \n",
    "    # policy function pi\n",
    "    def pi(self, s):\n",
    "        return rnd.randrange(self.Na)\n",
    "    \n",
    "    def getValue(self):\n",
    "        \n",
    "        P_pi = np.sum(self.P * 1 / self.Na, axis=1)\n",
    "        R_pi = np.sum(self.R * 1 / self.Na, axis=1)\n",
    "        \n",
    "        return np.linalg.inv(np.identity(self.Ns) - self.dF * P_pi).dot(R_pi)"
   ]
  },
  {
   "cell_type": "code",
   "execution_count": 3,
   "metadata": {},
   "outputs": [],
   "source": [
    "def MSE(V, V_true):\n",
    "    if len(V) != len(V_true):\n",
    "        return -1.0\n",
    "    else:\n",
    "        error = 0\n",
    "        for i in range(len(V)):\n",
    "            error += (V[i]-V_true[i]) ** 2\n",
    "        return error / len(V)"
   ]
  },
  {
   "cell_type": "code",
   "execution_count": 4,
   "metadata": {
    "scrolled": true
   },
   "outputs": [],
   "source": [
    "def td(m1, T, d):\n",
    "    \n",
    "#     print(\"T: \"+ str(T) + \", d: \"+ str(d))\n",
    "    S = np.ndarray((T+1), int)\n",
    "    A = np.ndarray((T), int)\n",
    "    S[0] = 0\n",
    "    \n",
    "    # T: sequence length\n",
    "    # V_td: value function computed by TD method\n",
    "    # V_lfa: value function computed by TD method with LFA\n",
    "    # d: dimension of feature vector for LFA\n",
    "    V_td = np.zeros((m1.Ns), float)\n",
    "    V_lfa = np.zeros((m1.Ns), float)\n",
    "    \n",
    "    phi = np.ndarray((m1.Ns, d), float)\n",
    "    for i in range(m1.Ns):\n",
    "        for j in range(d):\n",
    "            phi[i][j] = rnd.random()\n",
    "    theta = np.zeros((d), float)\n",
    "\n",
    "    # simulation of MDP\n",
    "    for t in range(T):\n",
    "        \n",
    "        # alpha: learning rate for TD method\n",
    "        # diminishing step size\n",
    "        alpha_td = 5 / (t + 50)\n",
    "        alpha_lfa = 0.1 / (t + 1)\n",
    "        \n",
    "        # eps: for regularization\n",
    "        eps = 1e-4\n",
    "        \n",
    "        A[t] = m1.pi(S[t])\n",
    "        S[t+1] = np.random.choice(m1.Ns, 1, p = m1.P[S[t]][A[t]])\n",
    "        r = m1.R[S[t]][A[t]]\n",
    "        V_td[S[t]] = V_td[S[t]] + alpha_td * (r + m1.dF * V_td[S[t+1]] - V_td[S[t]])\n",
    "        theta = theta + alpha_lfa * (r + m1.dF * phi[S[t+1]].transpose() * theta\n",
    "                                     - phi[S[t]].transpose() * theta) * phi[S[t]] - alpha_lfa * eps * theta\n",
    "    \n",
    "    for i in range(m1.Ns):\n",
    "        V_lfa[i] = phi[i].transpose().dot(theta)\n",
    "    \n",
    "    # print out the result\n",
    "    V_true = m1.getValue()\n",
    "#     print(\"V_td: \" + str(V_td))\n",
    "#     print(\"MSE of V_td: \" + str(MSE(V_td, V_true)))\n",
    "#     print(\"V_lfa: \" + str(V_lfa))\n",
    "#     print(\"MSE of V_lfa: \" + str(MSE(V_lfa, V_true)))\n",
    "    return MSE(V_td, V_true), MSE(V_lfa, V_true)"
   ]
  },
  {
   "cell_type": "code",
   "execution_count": 5,
   "metadata": {},
   "outputs": [
    {
     "data": {
      "image/png": "[encoded data removed]",
      "text/plain": [
       "<Figure size 432x288 with 1 Axes>"
      ]
     },
     "metadata": {
      "needs_background": "light"
     },
     "output_type": "display_data"
    }
   ],
   "source": [
    "m1 = MDP(10, 5, 2, 0.7)\n",
    "MSE_td = np.ndarray((5), float)\n",
    "MSE_lfa = np.ndarray((5), float)\n",
    "for i in range(5):\n",
    "    MSE_td[i], MSE_lfa[i] = td(m1, (i+1) * 50000, 10)\n",
    "plt.plot(range(5), MSE_td, label=\"TD method\")\n",
    "plt.plot(range(5), MSE_lfa, label=\"TD-LFA method\")\n",
    "plt.legend()\n",
    "plt.title(\"Comparision on TD method and TD-LFA method\")\n",
    "plt.ylabel(\"Mean Square Error\")\n",
    "plt.xlabel(\"t\")\n",
    "plt.show() "
   ]
  }
 ],
 "metadata": {
  "kernelspec": {
   "display_name": "Python 3",
   "language": "python",
   "name": "python3"
  },
  "language_info": {
   "codemirror_mode": {
    "name": "ipython",
    "version": 3
   },
   "file_extension": ".py",
   "mimetype": "text/x-python",
   "name": "python",
   "nbconvert_exporter": "python",
   "pygments_lexer": "ipython3",
   "version": "3.7.3"
  }
 },
 "nbformat": 4,
 "nbformat_minor": 2
}
